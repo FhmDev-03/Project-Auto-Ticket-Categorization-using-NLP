{
 "cells": [
  {
   "cell_type": "markdown",
   "id": "8341f548",
   "metadata": {},
   "source": [
    "# Auto-Ticket Categorization using Machine Learning"
   ]
  },
  {
   "cell_type": "markdown",
   "id": "6485e8ed",
   "metadata": {},
   "source": [
    "### This project automatically classifies IT support tickets into categories like \"VPN Issue\", \"Email Problem\", or \"Password Reset\", using natural language processing (NLP) and machine learning."
   ]
  },
  {
   "cell_type": "markdown",
   "id": "7847fc51",
   "metadata": {},
   "source": [
    "### It also explains **which words influenced the model’s decision**, using logistic regression coefficients."
   ]
  },
  {
   "cell_type": "markdown",
   "id": "ff323621",
   "metadata": {},
   "source": [
    "## 1. Import Required Libraries"
   ]
  },
  {
   "cell_type": "code",
   "execution_count": 1,
   "id": "9d34f0a2",
   "metadata": {},
   "outputs": [],
   "source": [
    "import pandas as pd\n",
    "import numpy as np\n",
    "import re\n",
    "import string\n",
    "import joblib\n",
    "import nltk\n",
    "import spacy\n",
    "\n",
    "from sklearn.preprocessing import LabelEncoder\n",
    "from sklearn.feature_extraction.text import TfidfVectorizer"
   ]
  },
  {
   "cell_type": "markdown",
   "id": "ed4be9dc",
   "metadata": {},
   "source": [
    "We import necessary packages for text cleaning, vectorization, classification, and frontend."
   ]
  },
  {
   "cell_type": "markdown",
   "id": "fff1afe2",
   "metadata": {},
   "source": [
    "## 2. Download Stopwords & Load spaCy"
   ]
  },
  {
   "cell_type": "code",
   "execution_count": null,
   "id": "02ff4e15",
   "metadata": {},
   "outputs": [
    {
     "name": "stderr",
     "output_type": "stream",
     "text": [
      "[nltk_data] Downloading package stopwords to\n",
      "[nltk_data]     C:\\Users\\fahee\\AppData\\Roaming\\nltk_data...\n",
      "[nltk_data]   Package stopwords is already up-to-date!\n"
     ]
    }
   ],
   "source": [
    "nltk.download('stopwords')\n",
    "from nltk.corpus import stopwords\n",
    "import en_core_web_sm\n",
    "nlp = en_core_web_sm.load(disable=[\"parser\", \"ner\"])\n",
    "STOPWORDS = set(stopwords.words('english'))"
   ]
  },
  {
   "cell_type": "markdown",
   "id": "26c5f442",
   "metadata": {},
   "source": [
    "We use `nltk` to remove common stopwords and load `spaCy` for optional lemmatization (disabled in this pipeline)."
   ]
  },
  {
   "cell_type": "markdown",
   "id": "303fb5ec",
   "metadata": {},
   "source": [
    "## 3. Load Dataset"
   ]
  },
  {
   "cell_type": "code",
   "execution_count": null,
   "id": "43fc6b81",
   "metadata": {},
   "outputs": [
    {
     "name": "stdout",
     "output_type": "stream",
     "text": [
      "✅ Dataset shape: (47837, 2)\n",
      "🧾 Available columns: ['Document', 'Topic_group']\n",
      "✅ Cleaned dataset shape: (47837, 2)\n"
     ]
    },
    {
     "data": {
      "text/html": [
       "<div>\n",
       "<style scoped>\n",
       "    .dataframe tbody tr th:only-of-type {\n",
       "        vertical-align: middle;\n",
       "    }\n",
       "\n",
       "    .dataframe tbody tr th {\n",
       "        vertical-align: top;\n",
       "    }\n",
       "\n",
       "    .dataframe thead th {\n",
       "        text-align: right;\n",
       "    }\n",
       "</style>\n",
       "<table border=\"1\" class=\"dataframe\">\n",
       "  <thead>\n",
       "    <tr style=\"text-align: right;\">\n",
       "      <th></th>\n",
       "      <th>cleaned_text</th>\n",
       "      <th>category</th>\n",
       "    </tr>\n",
       "  </thead>\n",
       "  <tbody>\n",
       "    <tr>\n",
       "      <th>0</th>\n",
       "      <td>connection with icon icon dear please setup ic...</td>\n",
       "      <td>Hardware</td>\n",
       "    </tr>\n",
       "    <tr>\n",
       "      <th>1</th>\n",
       "      <td>work experience user work experience user hi w...</td>\n",
       "      <td>Access</td>\n",
       "    </tr>\n",
       "    <tr>\n",
       "      <th>2</th>\n",
       "      <td>requesting for meeting requesting meeting hi p...</td>\n",
       "      <td>Hardware</td>\n",
       "    </tr>\n",
       "    <tr>\n",
       "      <th>3</th>\n",
       "      <td>reset passwords for external accounts re expir...</td>\n",
       "      <td>Access</td>\n",
       "    </tr>\n",
       "    <tr>\n",
       "      <th>4</th>\n",
       "      <td>mail verification warning hi has got attached ...</td>\n",
       "      <td>Miscellaneous</td>\n",
       "    </tr>\n",
       "  </tbody>\n",
       "</table>\n",
       "</div>"
      ],
      "text/plain": [
       "                                        cleaned_text       category\n",
       "0  connection with icon icon dear please setup ic...       Hardware\n",
       "1  work experience user work experience user hi w...         Access\n",
       "2  requesting for meeting requesting meeting hi p...       Hardware\n",
       "3  reset passwords for external accounts re expir...         Access\n",
       "4  mail verification warning hi has got attached ...  Miscellaneous"
      ]
     },
     "metadata": {},
     "output_type": "display_data"
    }
   ],
   "source": [
    "df = pd.read_csv(r\"C:\\Users\\fahee\\Downloads\\Project 2 - 2025\\data\\all_tickets_processed_improved_v3.csv\")\n",
    "\n",
    "print(\"✅ Dataset shape:\", df.shape)\n",
    "print(\"🧾 Available columns:\", df.columns.tolist())\n",
    "if 'Document' in df.columns and 'Topic_group' in df.columns:\n",
    "    df = df[['Document', 'Topic_group']].dropna()\n",
    "    df.rename(columns={'Document': 'cleaned_text', 'Topic_group': 'category'}, inplace=True)\n",
    "    print(\"✅ Cleaned dataset shape:\", df.shape)\n",
    "    display(df.head())\n",
    "else:\n",
    "    raise ValueError(\"Expected columns 'Document' and 'Topic_group' not found in the dataset.\")"
   ]
  },
  {
   "cell_type": "markdown",
   "id": "5608c31d",
   "metadata": {},
   "source": [
    "We load the dataset containing preprocessed support ticket text and their mapped categories."
   ]
  },
  {
   "cell_type": "markdown",
   "id": "8ad375fc",
   "metadata": {},
   "source": [
    "## 4. Define Text Cleaning Function"
   ]
  },
  {
   "cell_type": "code",
   "execution_count": null,
   "id": "16863f61",
   "metadata": {},
   "outputs": [
    {
     "name": "stdout",
     "output_type": "stream",
     "text": [
      "✅ Text cleaning done!\n"
     ]
    },
    {
     "data": {
      "text/plain": [
       "0    connection icon icon dear please setup icon pe...\n",
       "1    work experience user work experience user hi w...\n",
       "2    request meeting request meeting hi please help...\n",
       "3    reset password external account expire day hi ...\n",
       "4    mail verification warning hi get attach please...\n",
       "Name: cleaned_text, dtype: object"
      ]
     },
     "execution_count": 8,
     "metadata": {},
     "output_type": "execute_result"
    }
   ],
   "source": [
    "import re\n",
    "import string\n",
    "def clean_text(text):\n",
    "    text = text.lower()\n",
    "    text = re.sub(r'\\d+', '', text)  \n",
    "    text = text.translate(str.maketrans('', '', string.punctuation))  \n",
    "    text = \" \".join(text.split())  \n",
    "    tokens = [token.lemma_ for token in nlp(text) if token.text not in STOPWORDS and not token.is_space]\n",
    "    return \" \".join(tokens)\n",
    "df['cleaned_text'] = df['cleaned_text'].astype(str).apply(clean_text)\n",
    "print(\"✅ Text cleaning done!\")\n",
    "df['cleaned_text'].head()"
   ]
  },
  {
   "cell_type": "markdown",
   "id": "58302ec7",
   "metadata": {},
   "source": [
    "This function lowercases the text, removes punctuation and numbers, and filters out stopwords."
   ]
  },
  {
   "cell_type": "markdown",
   "id": "219a866b",
   "metadata": {},
   "source": [
    "## 5. Encode Target Labels"
   ]
  },
  {
   "cell_type": "code",
   "execution_count": null,
   "id": "d1dd67c0",
   "metadata": {},
   "outputs": [
    {
     "name": "stdout",
     "output_type": "stream",
     "text": [
      "✅ Vectorized shape: (47837, 50000)\n",
      "✅ Classes: ['Access' 'Administrative rights' 'HR Support' 'Hardware'\n",
      " 'Internal Project' 'Miscellaneous' 'Purchase' 'Storage']\n"
     ]
    }
   ],
   "source": [
    "from sklearn.preprocessing import LabelEncoder\n",
    "from sklearn.feature_extraction.text import TfidfVectorizer\n",
    "\n",
    "label_encoder = LabelEncoder()\n",
    "y = label_encoder.fit_transform(df['category'])\n",
    "vectorizer = TfidfVectorizer(ngram_range=(1,2), min_df=3, max_features=50000)\n",
    "X = vectorizer.fit_transform(df['cleaned_text'])\n",
    "\n",
    "print(f\"✅ Vectorized shape: {X.shape}\")\n",
    "print(f\"✅ Classes: {label_encoder.classes_}\")\n"
   ]
  },
  {
   "cell_type": "markdown",
   "id": "456757fa",
   "metadata": {},
   "source": [
    "We encode the `Topic_group` column into numerical labels for classification."
   ]
  },
  {
   "cell_type": "markdown",
   "id": "42e96b19",
   "metadata": {},
   "source": [
    "## 6. TF-IDF Vectorization"
   ]
  },
  {
   "cell_type": "code",
   "execution_count": null,
   "id": "f2672c61",
   "metadata": {},
   "outputs": [
    {
     "name": "stdout",
     "output_type": "stream",
     "text": [
      "✅ Split complete\n",
      "Train size: (38269, 50000)\n",
      "Test size: (9568, 50000)\n"
     ]
    }
   ],
   "source": [
    "from sklearn.model_selection import train_test_split\n",
    "\n",
    "X_train, X_test, y_train, y_test = train_test_split(\n",
    "    X, y, test_size=0.2, stratify=y, random_state=42\n",
    ")\n",
    "\n",
    "print(\"✅ Split complete\")\n",
    "print(\"Train size:\", X_train.shape)\n",
    "print(\"Test size:\", X_test.shape)"
   ]
  },
  {
   "cell_type": "markdown",
   "id": "dc0f4a94",
   "metadata": {},
   "source": [
    "Convert cleaned text into numerical features using Term Frequency-Inverse Document Frequency (TF-IDF)."
   ]
  },
  {
   "cell_type": "markdown",
   "id": "4a70ad52",
   "metadata": {},
   "source": [
    "## 7. Train Logistic Regression Classifier"
   ]
  },
  {
   "cell_type": "code",
   "execution_count": null,
   "id": "576fba3c",
   "metadata": {},
   "outputs": [
    {
     "name": "stdout",
     "output_type": "stream",
     "text": [
      "✅ All models trained.\n"
     ]
    }
   ],
   "source": [
    "from sklearn.naive_bayes import MultinomialNB\n",
    "from sklearn.linear_model import LogisticRegression\n",
    "from sklearn.svm import LinearSVC\n",
    "\n",
    "nb = MultinomialNB()\n",
    "lr = LogisticRegression(max_iter=1000, class_weight='balanced')\n",
    "svm = LinearSVC(class_weight='balanced')\n",
    "\n",
    "nb.fit(X_train, y_train)\n",
    "lr.fit(X_train, y_train)\n",
    "svm.fit(X_train, y_train)\n",
    "\n",
    "print(\"✅ All models trained.\")"
   ]
  },
  {
   "cell_type": "markdown",
   "id": "fd290533",
   "metadata": {},
   "source": [
    "We train a `LogisticRegression` classifier using a One-vs-Rest strategy to support multi-class predictions."
   ]
  },
  {
   "cell_type": "markdown",
   "id": "4f350c3a",
   "metadata": {},
   "source": [
    "## 8. Predict + Explain"
   ]
  },
  {
   "cell_type": "code",
   "execution_count": null,
   "id": "5336c779",
   "metadata": {},
   "outputs": [
    {
     "name": "stdout",
     "output_type": "stream",
     "text": [
      "📊 Naive Bayes Accuracy: 0.7560\n",
      "                       precision    recall  f1-score   support\n",
      "\n",
      "               Access       0.93      0.73      0.82      1425\n",
      "Administrative rights       0.99      0.19      0.32       352\n",
      "           HR Support       0.77      0.81      0.79      2183\n",
      "             Hardware       0.63      0.95      0.75      2724\n",
      "     Internal Project       0.99      0.42      0.59       424\n",
      "        Miscellaneous       0.83      0.63      0.72      1412\n",
      "             Purchase       0.98      0.81      0.89       493\n",
      "              Storage       0.99      0.54      0.70       555\n",
      "\n",
      "             accuracy                           0.76      9568\n",
      "            macro avg       0.89      0.64      0.70      9568\n",
      "         weighted avg       0.80      0.76      0.75      9568\n",
      "\n",
      "📊 Logistic Regression Accuracy: 0.8535\n",
      "                       precision    recall  f1-score   support\n",
      "\n",
      "               Access       0.90      0.87      0.88      1425\n",
      "Administrative rights       0.69      0.83      0.75       352\n",
      "           HR Support       0.90      0.84      0.87      2183\n",
      "             Hardware       0.86      0.82      0.84      2724\n",
      "     Internal Project       0.79      0.93      0.85       424\n",
      "        Miscellaneous       0.79      0.87      0.83      1412\n",
      "             Purchase       0.93      0.91      0.92       493\n",
      "              Storage       0.85      0.93      0.89       555\n",
      "\n",
      "             accuracy                           0.85      9568\n",
      "            macro avg       0.84      0.87      0.85      9568\n",
      "         weighted avg       0.86      0.85      0.85      9568\n",
      "\n",
      "📊 Linear SVM Accuracy: 0.8570\n",
      "                       precision    recall  f1-score   support\n",
      "\n",
      "               Access       0.90      0.90      0.90      1425\n",
      "Administrative rights       0.79      0.77      0.78       352\n",
      "           HR Support       0.88      0.85      0.86      2183\n",
      "             Hardware       0.84      0.84      0.84      2724\n",
      "     Internal Project       0.85      0.88      0.86       424\n",
      "        Miscellaneous       0.80      0.84      0.82      1412\n",
      "             Purchase       0.94      0.91      0.92       493\n",
      "              Storage       0.89      0.90      0.90       555\n",
      "\n",
      "             accuracy                           0.86      9568\n",
      "            macro avg       0.86      0.86      0.86      9568\n",
      "         weighted avg       0.86      0.86      0.86      9568\n",
      "\n"
     ]
    }
   ],
   "source": [
    "from sklearn.metrics import classification_report, accuracy_score\n",
    "\n",
    "def evaluate_model(name, model):\n",
    "    print(f\"📊 {name} Accuracy: {accuracy_score(y_test, model.predict(X_test)):.4f}\")\n",
    "    print(classification_report(y_test, model.predict(X_test), target_names=label_encoder.classes_))\n",
    "\n",
    "evaluate_model(\"Naive Bayes\", nb)\n",
    "evaluate_model(\"Logistic Regression\", lr)\n",
    "evaluate_model(\"Linear SVM\", svm)"
   ]
  },
  {
   "cell_type": "markdown",
   "id": "90fc074a",
   "metadata": {},
   "source": [
    "We build a prediction function that:\n",
    "- Cleans the input ticket\n",
    "- Predicts the category\n",
    "- Multiplies model coefficients by TF-IDF features\n",
    "- Returns top contributing words\n",
    "\n",
    "This avoids SHAP and uses pure model logic."
   ]
  },
  {
   "cell_type": "code",
   "execution_count": null,
   "id": "a4511dad",
   "metadata": {},
   "outputs": [
    {
     "data": {
      "text/plain": [
       "<Figure size 1000x800 with 0 Axes>"
      ]
     },
     "metadata": {},
     "output_type": "display_data"
    },
    {
     "name": "stderr",
     "output_type": "stream",
     "text": [
      "c:\\Users\\fahee\\Downloads\\Project 2 - 2025\\auto-tickets-env\\Lib\\site-packages\\IPython\\core\\pylabtools.py:170: UserWarning: Glyph 128202 (\\N{BAR CHART}) missing from font(s) DejaVu Sans.\n",
      "  fig.canvas.print_figure(bytes_io, **kw)\n"
     ]
    },
    {
     "data": {
      "image/png": "[encoded data removed]",
      "text/plain": [
       "<Figure size 640x480 with 2 Axes>"
      ]
     },
     "metadata": {},
     "output_type": "display_data"
    }
   ],
   "source": [
    "from sklearn.metrics import confusion_matrix, ConfusionMatrixDisplay\n",
    "import matplotlib.pyplot as plt\n",
    "\n",
    "y_pred = lr.predict(X_test)\n",
    "cm = confusion_matrix(y_test, y_pred)\n",
    "\n",
    "plt.figure(figsize=(10, 8))\n",
    "disp = ConfusionMatrixDisplay(confusion_matrix=cm, display_labels=label_encoder.classes_)\n",
    "disp.plot(xticks_rotation=45, cmap=\"Blues\")\n",
    "plt.title(\"📊 Confusion Matrix – Logistic Regression\")\n",
    "plt.grid(False)\n",
    "plt.show()"
   ]
  },
  {
   "cell_type": "code",
   "execution_count": null,
   "id": "c04e4c61",
   "metadata": {},
   "outputs": [
    {
     "name": "stdout",
     "output_type": "stream",
     "text": [
      "Fitting 3 folds for each of 4 candidates, totalling 12 fits\n",
      "✅ Best LR Params: {'C': 5, 'penalty': 'l2', 'solver': 'liblinear'}\n",
      "🎯 Best LR F1 Score: 0.8533112377019089\n"
     ]
    }
   ],
   "source": [
    "from sklearn.model_selection import GridSearchCV\n",
    "\n",
    "lr_params = {\n",
    "    \"C\": [0.1, 1, 2, 5],\n",
    "    \"penalty\": ['l2'],\n",
    "    \"solver\": ['liblinear'],  \n",
    "}\n",
    "\n",
    "lr_grid = GridSearchCV(LogisticRegression(class_weight='balanced', max_iter=1000),\n",
    "                       lr_params, scoring='f1_macro', cv=3, verbose=1, n_jobs=-1)\n",
    "\n",
    "lr_grid.fit(X_train, y_train)\n",
    "\n",
    "print(\"✅ Best LR Params:\", lr_grid.best_params_)\n",
    "print(\"🎯 Best LR F1 Score:\", lr_grid.best_score_)"
   ]
  },
  {
   "cell_type": "markdown",
   "id": "2ae0e7da",
   "metadata": {},
   "source": [
    "## 9. Launch Gradio Interface"
   ]
  },
  {
   "cell_type": "code",
   "execution_count": null,
   "id": "664d93c8",
   "metadata": {},
   "outputs": [],
   "source": [
    "import gradio as gr\n",
    "import numpy as np\n",
    "import re\n",
    "from nltk.corpus import stopwords\n",
    "stop_words = set(stopwords.words(\"english\"))\n",
    "def clean_text(text):\n",
    "    text = text.lower()\n",
    "    text = re.sub(r\"[^a-zA-Z0-9\\s]\", \"\", text)\n",
    "    tokens = text.split()\n",
    "    tokens = [word for word in tokens if word not in stop_words]\n",
    "    return \" \".join(tokens)\n"
   ]
  },
  {
   "cell_type": "code",
   "execution_count": null,
   "id": "6a2e91bb",
   "metadata": {},
   "outputs": [],
   "source": [
    "def predict_ticket_category(text):\n",
    "    try:\n",
    "        cleaned = clean_text(text)\n",
    "        vec = vectorizer.transform([cleaned]).toarray()\n",
    "        pred = lr.predict(vec)[0]\n",
    "        label = label_encoder.inverse_transform([pred])[0]\n",
    "\n",
    "        coefs = lr.coef_[pred]  \n",
    "        contributions = vec.ravel() * coefs\n",
    "\n",
    "        top_indices = np.argsort(np.abs(contributions))[::-1][:5]\n",
    "        top_tokens = vectorizer.get_feature_names_out()[top_indices]\n",
    "        top_scores = contributions[top_indices]\n",
    "\n",
    "        explanation_lines = []\n",
    "        for token, score in zip(top_tokens, top_scores):\n",
    "            if score == 0:\n",
    "                continue\n",
    "            arrow = \"↑\" if score > 0 else \"↓\"\n",
    "            explanation_lines.append(f\"{arrow} {token:20} | Contribution = {score:+.6f}\")\n",
    "\n",
    "        if not explanation_lines:\n",
    "            explanation = \"⚠️ No meaningful words found (all contributions were 0.0)\"\n",
    "        else:\n",
    "            explanation = \"\\n\".join(explanation_lines)\n",
    "\n",
    "        return label, explanation\n",
    "\n",
    "    except Exception as e:\n",
    "        return \"⚠️ Prediction Failed\", f\"Error: {str(e)}\""
   ]
  },
  {
   "cell_type": "markdown",
   "id": "cf784d5a",
   "metadata": {},
   "source": [
    "Use `gr.Interface` to allow users to:\n",
    "- Enter a support ticket\n",
    "- See predicted category\n",
    "- View top 5 contributing words from the model"
   ]
  },
  {
   "cell_type": "code",
   "execution_count": 73,
   "id": "dd56e8fa",
   "metadata": {},
   "outputs": [
    {
     "name": "stdout",
     "output_type": "stream",
     "text": [
      "* Running on local URL:  http://127.0.0.1:7868\n",
      "* To create a public link, set `share=True` in `launch()`.\n"
     ]
    },
    {
     "data": {
      "text/html": [
       "<div><iframe src=\"http://127.0.0.1:7868/\" width=\"100%\" height=\"500\" allow=\"autoplay; camera; microphone; clipboard-read; clipboard-write;\" frameborder=\"0\" allowfullscreen></iframe></div>"
      ],
      "text/plain": [
       "<IPython.core.display.HTML object>"
      ]
     },
     "metadata": {},
     "output_type": "display_data"
    },
    {
     "data": {
      "text/plain": []
     },
     "execution_count": 73,
     "metadata": {},
     "output_type": "execute_result"
    },
    {
     "name": "stdout",
     "output_type": "stream",
     "text": [
      "Created dataset file at: .gradio\\flagged\\dataset2.csv\n"
     ]
    }
   ],
   "source": [
    "gr.Interface(\n",
    "    fn=predict_ticket_category,\n",
    "    inputs=gr.Textbox(lines=4, placeholder=\"Paste a support ticket here...\"),\n",
    "    outputs=[\n",
    "        gr.Label(label=\"Predicted Category\"),\n",
    "        gr.Textbox(label=\"Top Contributing Words (via LR coefficients)\")\n",
    "    ],\n",
    "    title=\"🎫 Ticket Auto-Categorization\",\n",
    "    description=\"Enter a support ticket. Get category + top words influencing the model (via coefficients).\",\n",
    "    theme=\"default\"\n",
    ").launch()\n"
   ]
  },
  {
   "cell_type": "markdown",
   "id": "294aba0d",
   "metadata": {},
   "source": [
    "## 10. Conclusion"
   ]
  },
  {
   "cell_type": "markdown",
   "id": "f88aa869",
   "metadata": {},
   "source": [
    "This auto-ticket classifier uses a clean ML pipeline:\n",
    "- TF-IDF + Logistic Regression\n",
    "- Coefficient-based interpretability\n",
    "- Simple and fast Gradio deployment\n",
    "\n",
    "No SHAP needed, real-time explanations are lean, readable, and accurate."
   ]
  }
 ],
 "metadata": {
  "kernelspec": {
   "display_name": "auto-tickets-env",
   "language": "python",
   "name": "python3"
  },
  "language_info": {
   "codemirror_mode": {
    "name": "ipython",
    "version": 3
   },
   "file_extension": ".py",
   "mimetype": "text/x-python",
   "name": "python",
   "nbconvert_exporter": "python",
   "pygments_lexer": "ipython3",
   "version": "3.11.9"
  }
 },
 "nbformat": 4,
 "nbformat_minor": 5
}
